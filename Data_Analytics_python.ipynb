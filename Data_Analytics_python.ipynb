{
  "nbformat": 4,
  "nbformat_minor": 0,
  "metadata": {
    "colab": {
      "provenance": [],
      "authorship_tag": "ABX9TyNCOVcMgNL/cfMntAs6K8R5",
      "include_colab_link": true
    },
    "kernelspec": {
      "name": "python3",
      "display_name": "Python 3"
    },
    "language_info": {
      "name": "python"
    }
  },
  "cells": [
    {
      "cell_type": "markdown",
      "metadata": {
        "id": "view-in-github",
        "colab_type": "text"
      },
      "source": [
        "<a href=\"https://colab.research.google.com/github/Abhigeek29/FIle_sorter/blob/main/Data_Analytics_python.ipynb\" target=\"_parent\"><img src=\"https://colab.research.google.com/assets/colab-badge.svg\" alt=\"Open In Colab\"/></a>"
      ]
    },
    {
      "cell_type": "markdown",
      "source": [
        "#BeautifulSoup and Requests in python\n",
        "#webscrapping\n"
      ],
      "metadata": {
        "id": "CN30hUNMV9lc"
      }
    },
    {
      "cell_type": "code",
      "source": [
        "from bs4 import BeautifulSoup\n",
        "import requests"
      ],
      "metadata": {
        "id": "j8uS5v72V9JD"
      },
      "execution_count": null,
      "outputs": []
    },
    {
      "cell_type": "code",
      "execution_count": null,
      "metadata": {
        "id": "yYKJvdHfMgPQ"
      },
      "outputs": [],
      "source": [
        "url = 'https://www.scrapethissite.com/pages/forms/'"
      ]
    },
    {
      "cell_type": "code",
      "source": [
        "page = requests.get(url)"
      ],
      "metadata": {
        "id": "GSnQ_jL2UeL4"
      },
      "execution_count": null,
      "outputs": []
    },
    {
      "cell_type": "code",
      "source": [
        "soup = BeautifulSoup(page.text,'html')"
      ],
      "metadata": {
        "id": "dq7fKydNUlUe"
      },
      "execution_count": null,
      "outputs": []
    },
    {
      "cell_type": "code",
      "source": [
        "# print(soup.prettify)"
      ],
      "metadata": {
        "id": "SCvYNfImVGBG"
      },
      "execution_count": null,
      "outputs": []
    },
    {
      "cell_type": "markdown",
      "source": [
        "#FIND AND FIND ALL"
      ],
      "metadata": {
        "id": "Ei_hERrUVkLC"
      }
    },
    {
      "cell_type": "code",
      "source": [
        "soup.find('div')\n",
        "# Finds the first\n"
      ],
      "metadata": {
        "colab": {
          "base_uri": "https://localhost:8080/"
        },
        "id": "h2pgSoQLVfwa",
        "outputId": "6e05d524-b035-4149-fd54-feac246ae585"
      },
      "execution_count": null,
      "outputs": [
        {
          "output_type": "execute_result",
          "data": {
            "text/plain": [
              "<div class=\"container\">\n",
              "<div class=\"col-md-12\">\n",
              "<ul class=\"nav nav-tabs\">\n",
              "<li id=\"nav-homepage\">\n",
              "<a class=\"nav-link hidden-sm hidden-xs\" href=\"/\">\n",
              "<img id=\"nav-logo\" src=\"/static/images/scraper-icon.png\"/>\n",
              "                                Scrape This Site\n",
              "                            </a>\n",
              "</li>\n",
              "<li id=\"nav-sandbox\">\n",
              "<a class=\"nav-link\" href=\"/pages/\">\n",
              "<i class=\"glyphicon glyphicon-console hidden-sm hidden-xs\"></i>\n",
              "                                Sandbox\n",
              "                            </a>\n",
              "</li>\n",
              "<li id=\"nav-lessons\">\n",
              "<a class=\"nav-link\" href=\"/lessons/\">\n",
              "<i class=\"glyphicon glyphicon-education hidden-sm hidden-xs\"></i>\n",
              "                                Lessons\n",
              "                            </a>\n",
              "</li>\n",
              "<li id=\"nav-faq\">\n",
              "<a class=\"nav-link\" href=\"/faq/\">\n",
              "<i class=\"glyphicon glyphicon-flag hidden-sm hidden-xs\"></i>\n",
              "                                FAQ\n",
              "                            </a>\n",
              "</li>\n",
              "<li class=\"pull-right\" id=\"nav-login\">\n",
              "<a class=\"nav-link\" href=\"/login/\">\n",
              "                                Login\n",
              "                            </a>\n",
              "</li>\n",
              "</ul>\n",
              "</div>\n",
              "</div>"
            ]
          },
          "metadata": {},
          "execution_count": 9
        }
      ]
    },
    {
      "cell_type": "code",
      "source": [
        "soup.find_all('div', class_ = 'col-md-12')\n",
        "# Finds all"
      ],
      "metadata": {
        "colab": {
          "base_uri": "https://localhost:8080/"
        },
        "id": "ckaN0YPLWHZX",
        "outputId": "f993a7ac-b158-4bdb-db63-8a30c77772bc"
      },
      "execution_count": null,
      "outputs": [
        {
          "output_type": "execute_result",
          "data": {
            "text/plain": [
              "[<div class=\"col-md-12\">\n",
              " <ul class=\"nav nav-tabs\">\n",
              " <li id=\"nav-homepage\">\n",
              " <a class=\"nav-link hidden-sm hidden-xs\" href=\"/\">\n",
              " <img id=\"nav-logo\" src=\"/static/images/scraper-icon.png\"/>\n",
              "                                 Scrape This Site\n",
              "                             </a>\n",
              " </li>\n",
              " <li id=\"nav-sandbox\">\n",
              " <a class=\"nav-link\" href=\"/pages/\">\n",
              " <i class=\"glyphicon glyphicon-console hidden-sm hidden-xs\"></i>\n",
              "                                 Sandbox\n",
              "                             </a>\n",
              " </li>\n",
              " <li id=\"nav-lessons\">\n",
              " <a class=\"nav-link\" href=\"/lessons/\">\n",
              " <i class=\"glyphicon glyphicon-education hidden-sm hidden-xs\"></i>\n",
              "                                 Lessons\n",
              "                             </a>\n",
              " </li>\n",
              " <li id=\"nav-faq\">\n",
              " <a class=\"nav-link\" href=\"/faq/\">\n",
              " <i class=\"glyphicon glyphicon-flag hidden-sm hidden-xs\"></i>\n",
              "                                 FAQ\n",
              "                             </a>\n",
              " </li>\n",
              " <li class=\"pull-right\" id=\"nav-login\">\n",
              " <a class=\"nav-link\" href=\"/login/\">\n",
              "                                 Login\n",
              "                             </a>\n",
              " </li>\n",
              " </ul>\n",
              " </div>,\n",
              " <div class=\"col-md-12\">\n",
              " <h1>\n",
              "                             Hockey Teams: Forms, Searching and Pagination\n",
              "                             <small>25 items</small>\n",
              " </h1>\n",
              " <hr/>\n",
              " </div>,\n",
              " <div class=\"col-md-12\">\n",
              " <p class=\"lead\">\n",
              "                             Browse through a database of NHL team stats since 1990. Practice building a scraper that handles common website interface components.\n",
              "                             Take a look at how pagination and search elements change the URL as your browse. Build a web scraper that can conduct searches and paginate through the results.\n",
              "                         </p>\n",
              " <hr/>\n",
              " </div>,\n",
              " <div class=\"col-md-12 text-center\">\n",
              " <form action=\"/pages/forms/\" class=\"form form-inline\" method=\"GET\">\n",
              " <label for=\"q\">\n",
              "                                 Search for Teams:  \n",
              "                             </label>\n",
              " <input class=\"form-control\" id=\"q\" name=\"q\" placeholder=\"Search for Teams\" type=\"text\"/>\n",
              " <input class=\"btn btn-primary\" type=\"submit\" value=\"Search\"/>\n",
              " </form>\n",
              " <hr/>\n",
              " </div>,\n",
              " <div class=\"col-md-12 text-center text-muted\">\n",
              "                     Lessons and Videos © Hartley Brody 2023\n",
              "                 </div>]"
            ]
          },
          "metadata": {},
          "execution_count": 10
        }
      ]
    },
    {
      "cell_type": "code",
      "source": [
        "soup.find('p', class_ = 'lead').text\n"
      ],
      "metadata": {
        "id": "sS-IaasFWOej",
        "colab": {
          "base_uri": "https://localhost:8080/",
          "height": 70
        },
        "outputId": "b911a089-09d2-4688-8e33-ca3ae56ea36f"
      },
      "execution_count": null,
      "outputs": [
        {
          "output_type": "execute_result",
          "data": {
            "text/plain": [
              "'\\n                            Browse through a database of NHL team stats since 1990. Practice building a scraper that handles common website interface components.\\n                            Take a look at how pagination and search elements change the URL as your browse. Build a web scraper that can conduct searches and paginate through the results.\\n                        '"
            ],
            "application/vnd.google.colaboratory.intrinsic+json": {
              "type": "string"
            }
          },
          "metadata": {},
          "execution_count": 11
        }
      ]
    },
    {
      "cell_type": "code",
      "source": [
        "soup.find('p', class_ = 'lead').text.strip()\n"
      ],
      "metadata": {
        "colab": {
          "base_uri": "https://localhost:8080/",
          "height": 53
        },
        "id": "GDjukygYUUEf",
        "outputId": "d4894b21-ba88-4163-e47f-f1a957428ac2"
      },
      "execution_count": null,
      "outputs": [
        {
          "output_type": "execute_result",
          "data": {
            "text/plain": [
              "'Browse through a database of NHL team stats since 1990. Practice building a scraper that handles common website interface components.\\n                            Take a look at how pagination and search elements change the URL as your browse. Build a web scraper that can conduct searches and paginate through the results.'"
            ],
            "application/vnd.google.colaboratory.intrinsic+json": {
              "type": "string"
            }
          },
          "metadata": {},
          "execution_count": 12
        }
      ]
    },
    {
      "cell_type": "code",
      "source": [
        "soup.find('th').text.strip()"
      ],
      "metadata": {
        "colab": {
          "base_uri": "https://localhost:8080/",
          "height": 36
        },
        "id": "iMqfwIgMUrmr",
        "outputId": "900d9e71-0af5-463d-869e-5beb8e5029f0"
      },
      "execution_count": null,
      "outputs": [
        {
          "output_type": "execute_result",
          "data": {
            "text/plain": [
              "'Team Name'"
            ],
            "application/vnd.google.colaboratory.intrinsic+json": {
              "type": "string"
            }
          },
          "metadata": {},
          "execution_count": 13
        }
      ]
    },
    {
      "cell_type": "code",
      "source": [
        "# from bs4 import BeautifulSoup\n",
        "# import requests\n",
        "# url = 'https://www.scrapethissite.com/pages/forms/'\n",
        "# page = requests.get(url)\n",
        "# soup = BeautifulSoup(page.text ,'html')\n",
        "# soup.find('a').text.strip()"
      ],
      "metadata": {
        "colab": {
          "base_uri": "https://localhost:8080/",
          "height": 36
        },
        "id": "Q2i6h82gVT53",
        "outputId": "3db4bd2e-6a7e-4b29-be8f-db4f47f3cea5"
      },
      "execution_count": null,
      "outputs": [
        {
          "output_type": "execute_result",
          "data": {
            "text/plain": [
              "'Scrape This Site'"
            ],
            "application/vnd.google.colaboratory.intrinsic+json": {
              "type": "string"
            }
          },
          "metadata": {},
          "execution_count": 5
        }
      ]
    },
    {
      "cell_type": "markdown",
      "source": [
        "##Functions in python"
      ],
      "metadata": {
        "id": "Q8dI8qmcN8wM"
      }
    },
    {
      "cell_type": "code",
      "source": [
        "def print_name(lname):\n",
        "  print(lname + '1')\n",
        "\n",
        "print_name('elis')\n"
      ],
      "metadata": {
        "id": "UNmJserz8geW",
        "colab": {
          "base_uri": "https://localhost:8080/"
        },
        "outputId": "981f6916-d05f-4540-8ae7-4fa9731e2a3f"
      },
      "execution_count": null,
      "outputs": [
        {
          "output_type": "stream",
          "name": "stdout",
          "text": [
            "elis1\n"
          ]
        }
      ]
    },
    {
      "cell_type": "markdown",
      "source": [
        "##args"
      ],
      "metadata": {
        "id": "_ZIhMtkdP3cA"
      }
    },
    {
      "cell_type": "code",
      "source": [
        "# If we are unsure about the number of arguments passed then we can write args\n",
        "def sqaured(x):\n",
        "  return x*x\n",
        "sqaured(3)"
      ],
      "metadata": {
        "colab": {
          "base_uri": "https://localhost:8080/"
        },
        "id": "IiPppnPtPnWC",
        "outputId": "2488be98-f4a8-4678-c871-b379e10b6fbb"
      },
      "execution_count": null,
      "outputs": [
        {
          "output_type": "execute_result",
          "data": {
            "text/plain": [
              "9"
            ]
          },
          "metadata": {},
          "execution_count": 3
        }
      ]
    },
    {
      "cell_type": "markdown",
      "source": [
        "##Kwargs is passing of keyword argumens"
      ],
      "metadata": {
        "id": "41l5XAKGQgvQ"
      }
    },
    {
      "cell_type": "code",
      "source": [
        "def child_name(kid1 , kid2 , kid3):\n",
        "  print(\"The oldest child is :\" + kid1)\n",
        "child_name(kid1 = 'abhigyan', kid2 = 'rohan', kid3 = 'lund')"
      ],
      "metadata": {
        "colab": {
          "base_uri": "https://localhost:8080/"
        },
        "id": "Hs7AczxYQclV",
        "outputId": "a2553def-5d23-4007-e7ad-52220156be15"
      },
      "execution_count": null,
      "outputs": [
        {
          "output_type": "stream",
          "name": "stdout",
          "text": [
            "The oldest child is :abhigyan\n"
          ]
        }
      ]
    },
    {
      "cell_type": "markdown",
      "source": [
        "for arbitrary keyword arguments  we use **"
      ],
      "metadata": {
        "id": "ZSEJ0g3wQ_vY"
      }
    },
    {
      "cell_type": "code",
      "source": [
        "def child_papa(**baap):\n",
        "  print(\"The oldest child is :\" + baap['kid1'])\n",
        "child_papa(kid1 = 'abhigyan', kid2 = 'rohan', kid3 = 'lund')"
      ],
      "metadata": {
        "colab": {
          "base_uri": "https://localhost:8080/"
        },
        "id": "JGaoPqn1Q7Hr",
        "outputId": "fa3a8e14-dd43-4bcd-9e6e-3c96a5d1dbea"
      },
      "execution_count": null,
      "outputs": [
        {
          "output_type": "stream",
          "name": "stdout",
          "text": [
            "The oldest child is :abhigyan\n"
          ]
        }
      ]
    },
    {
      "cell_type": "code",
      "source": [
        "# Passing a list as an argument\n",
        "def print_all(food):\n",
        "  for x in food:\n",
        "    print(x)\n",
        "food1 = ['apple ', 'burger']\n",
        "print_all(food1)"
      ],
      "metadata": {
        "colab": {
          "base_uri": "https://localhost:8080/"
        },
        "id": "qzH66Ni0Ynrc",
        "outputId": "8b0e97de-85f7-427a-8b60-0fc58946f4a6"
      },
      "execution_count": null,
      "outputs": [
        {
          "output_type": "stream",
          "name": "stdout",
          "text": [
            "apple \n",
            "burger\n"
          ]
        }
      ]
    },
    {
      "cell_type": "markdown",
      "source": [
        "#Lambda function"
      ],
      "metadata": {
        "id": "HawD0VTLZOJv"
      }
    },
    {
      "cell_type": "code",
      "source": [
        "# A lambda function is a small anonymous function.\n",
        "\n",
        "# A lambda function can take any number of arguments, but can only have one expression."
      ],
      "metadata": {
        "id": "DebO6fQbY7EP"
      },
      "execution_count": null,
      "outputs": []
    },
    {
      "cell_type": "code",
      "source": [
        "x = lambda a : a*10\n",
        "print(x(5))"
      ],
      "metadata": {
        "colab": {
          "base_uri": "https://localhost:8080/"
        },
        "id": "wtqwNC7NZWIG",
        "outputId": "6db11661-37d1-4698-c1d2-75fafc781613"
      },
      "execution_count": null,
      "outputs": [
        {
          "output_type": "stream",
          "name": "stdout",
          "text": [
            "50\n"
          ]
        }
      ]
    },
    {
      "cell_type": "code",
      "source": [
        "# Using lambda inside the function block\n",
        "def new_func(*n):\n",
        "  return lambda a : a+ sum(n)\n",
        "myfunk = new_func(2,3)\n",
        "print(myfunk(3))"
      ],
      "metadata": {
        "colab": {
          "base_uri": "https://localhost:8080/"
        },
        "id": "Km-19ljFZ6tP",
        "outputId": "0cbc02e4-9fa5-40eb-9f59-072ca6d11392"
      },
      "execution_count": null,
      "outputs": [
        {
          "output_type": "stream",
          "name": "stdout",
          "text": [
            "8\n"
          ]
        }
      ]
    },
    {
      "cell_type": "code",
      "source": [
        "def number_list(number):\n",
        "  result_list = []\n",
        "  print(\"The even numbers are :\")\n",
        "  for num in number:\n",
        "    if(num%2==0):\n",
        "      result_list.append(num)\n",
        "  return result_list"
      ],
      "metadata": {
        "id": "-vol_YLuadR6"
      },
      "execution_count": 3,
      "outputs": []
    },
    {
      "cell_type": "code",
      "source": [
        "event_list = number_list([1,2,3,4,5,6,7,8,9,10])\n",
        "event_list"
      ],
      "metadata": {
        "colab": {
          "base_uri": "https://localhost:8080/"
        },
        "id": "h_JWsxii8fWo",
        "outputId": "6c017f6e-0991-473e-8311-a91e0563855f"
      },
      "execution_count": 4,
      "outputs": [
        {
          "output_type": "stream",
          "name": "stdout",
          "text": [
            "The even numbers are :\n"
          ]
        },
        {
          "output_type": "execute_result",
          "data": {
            "text/plain": [
              "[2, 4, 6, 8, 10]"
            ]
          },
          "metadata": {},
          "execution_count": 4
        }
      ]
    },
    {
      "cell_type": "code",
      "source": [],
      "metadata": {
        "id": "7AvYiqHA8rm5"
      },
      "execution_count": null,
      "outputs": []
    }
  ]
}